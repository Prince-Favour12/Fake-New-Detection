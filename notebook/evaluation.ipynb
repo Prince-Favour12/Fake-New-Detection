{
 "cells": [
  {
   "cell_type": "code",
   "execution_count": 1,
   "id": "9f0e0e5a",
   "metadata": {},
   "outputs": [],
   "source": [
    "import pandas as pd"
   ]
  },
  {
   "cell_type": "code",
   "execution_count": 2,
   "id": "0793d227",
   "metadata": {},
   "outputs": [],
   "source": [
    "df = pd.read_csv('../data/fake_news_dataset.csv')"
   ]
  },
  {
   "cell_type": "code",
   "execution_count": 3,
   "id": "21156c60",
   "metadata": {},
   "outputs": [
    {
     "data": {
      "application/vnd.microsoft.datawrangler.viewer.v0+json": {
       "columns": [
        {
         "name": "index",
         "rawType": "int64",
         "type": "integer"
        },
        {
         "name": "title",
         "rawType": "object",
         "type": "string"
        },
        {
         "name": "text",
         "rawType": "object",
         "type": "string"
        },
        {
         "name": "date",
         "rawType": "object",
         "type": "string"
        },
        {
         "name": "source",
         "rawType": "object",
         "type": "string"
        },
        {
         "name": "author",
         "rawType": "object",
         "type": "string"
        },
        {
         "name": "category",
         "rawType": "object",
         "type": "string"
        },
        {
         "name": "label",
         "rawType": "object",
         "type": "string"
        }
       ],
       "ref": "88cb391e-6f89-40f2-b392-e08725eb1109",
       "rows": [
        [
         "0",
         "Foreign Democrat final.",
         "more tax development both store agreement lawyer hear outside continue reach difference yeah figure your power fear identify there protect security great national nothing fast story why late nearly bit cost tough since question to power almost future young conference behind ahead building teach million box receive Mrs risk benefit month compare environment class imagine you vote community reason set once idea him answer many how purpose deep training game own true language garden of partner result face military discover discover data glass bed maintain test way development across top culture glass yes decision hope necessary as trade organization talk debate peace stay community development six wide write itself several fight teach billion for common fear we personal church establish store kind hundred debate hotel cut sister audience sound case that stay within information trouble be debate great themselves responsibility force people hundred bar miss others sometimes build room interesting however charge what especially north no especially us travel industry about including face ten behind black series place age soldier early trouble middle would along case what money significant sound song reason poor free want thank cultural range shoulder rest movie political fear hear past leader up edge professor determine law act change middle prove say notice travel open director argue economic seven game matter season",
         "2023-03-10",
         "NY Times",
         "Paula George",
         "Politics",
         "real"
        ],
        [
         "1",
         "To offer down resource great point.",
         "probably guess western behind likely next investment consumer range wrong exactly once attack shoulder movie partner daughter on executive tonight factor push development pass question field firm accept I represent answer computer win fast small character total myself air must difficult green fast writer adult though individual learn interview our available drug against group produce before large wish find even media nature then last computer project story special stand lead build during ball contain road since history customer garden figure kind throw tell discuss remain view morning put mouth while serve great certain free two structure skin yard position suffer fast someone ok mind must something outside position write theory ok letter for debate seat top fall authority bit deep there get man view loss bring friend free certain economic final occur summer similar best discover area real area still scientist social everybody front direction arrive open own down next lawyer baby already size stand put financial sister clear whether save into realize right break quickly music customer price prevent truth effort which probably strong friend everything also body together political interview least research benefit why dog mean near interest unit seek blood leader husband bring teacher age apply fill guess store south woman television worry build young style maybe agreement ability relate amount actually quite whose smile student current mother simply gun store Republican none when shoulder market admit knowledge animal majority product attorney approach on probably",
         "2022-05-25",
         "Fox News",
         "Joseph Hill",
         "Politics",
         "fake"
        ],
        [
         "2",
         "Himself church myself carry.",
         "them identify forward present success risk several front pull blood choose born prove we clear approach language election future plant other those yourself all thing side soon guy vote him should practice dream until find despite less artist minute although teacher social eye top less make back care thus much small act outside college because up travel continue night name military room himself instead many month follow long president community people like attention fall crime history despite fill recently need commercial investment address send religious join opportunity story but idea exactly back difference loss degree whose throughout lead response almost toward themselves card national structure state arm low threat property eat bill public trip bed note hair teach defense citizen my rather believe say level wall short religious theory hair respond town return discussion investment never success entire admit develop south ability television yard daughter while fire modern send suggest skin could outside work office protect determine teach structure door fund ready gun role everyone often father establish majority point set choice meet think treatment animal audience guess hear student other certain inside assume check approach senior body once condition just trial occur foot explain police certain kid into special share deal write southern nature exactly respond kid help cause manager TV ago word nor her care reality daughter find answer affect",
         "2022-09-01",
         "CNN",
         "Julia Robinson",
         "Business",
         "fake"
        ],
        [
         "3",
         "You unit its should.",
         "phone which item yard Republican safe where police identify either once participant not man human tough enough offer high imagine point police woman paper cover many reach service will likely president conference film agree discover moment positive help task share necessary story right finally compare traditional change for reason purpose single crime available point building wear speech about summer why senior couple somebody PM remember push less data hotel authority situation for much visit general society firm positive player play page miss brother window indeed energy lose stage perhaps itself range common story hot strong adult produce next carry guess television travel form meeting industry shoulder market sure certain parent walk husband behind cultural whatever collection difficult we team probably produce quickly health full white laugh represent religious line force I exist admit statement try by front short pattern baby open claim these chance face else way decade sing nature rich white bring employee catch time industry official family million camera some including everybody security wait art vote maybe rich detail sort another let forget product police third evidence end old throughout student discussion office put nature whatever figure sign nature population town team against arm war include need visit would wait small just bed I line school eight might bag official worker television condition so institution information full protect food fight attack include current even per chair accept reflect speak answer bag officer understand good weight money movement main traditional western information account adult even gas",
         "2023-02-07",
         "Reuters",
         "Mr. David Foster DDS",
         "Science",
         "fake"
        ],
        [
         "4",
         "Billion believe employee summer how.",
         "wonder myself fact difficult course forget exactly pattern both sell training understand so ahead single western ago worry direction various agree first remember tonight year building agreement involve effect over even total game look need evidence particularly attorney agency apply produce theory deep ok fund relationship suffer guess put build morning quickly home authority physical choice can environment skin fill cost state force fire again establish recent two world style beyond bad while game memory world what hair anyone simply week try sport animal yeah hundred visit note within value various military laugh politics official between front would upon attack shoulder administration wish space receive less thing with structure produce cultural approach law doctor money interesting lawyer TV each activity however child item space sell movie south make around number camera past process fear wait total city site next party charge father up knowledge compare front attack check watch beat yard knowledge before quality field institution month child actually right become collection camera need include pattern after behind best ability expect possible star girl four radio establish charge budget suggest thousand she base become blood direction middle support fight game foot court reduce single whether or at score anything its sister management at focus machine single husband through free language run want shake goal food",
         "2023-04-03",
         "CNN",
         "Austin Walker",
         "Technology",
         "fake"
        ]
       ],
       "shape": {
        "columns": 7,
        "rows": 5
       }
      },
      "text/html": [
       "<div>\n",
       "<style scoped>\n",
       "    .dataframe tbody tr th:only-of-type {\n",
       "        vertical-align: middle;\n",
       "    }\n",
       "\n",
       "    .dataframe tbody tr th {\n",
       "        vertical-align: top;\n",
       "    }\n",
       "\n",
       "    .dataframe thead th {\n",
       "        text-align: right;\n",
       "    }\n",
       "</style>\n",
       "<table border=\"1\" class=\"dataframe\">\n",
       "  <thead>\n",
       "    <tr style=\"text-align: right;\">\n",
       "      <th></th>\n",
       "      <th>title</th>\n",
       "      <th>text</th>\n",
       "      <th>date</th>\n",
       "      <th>source</th>\n",
       "      <th>author</th>\n",
       "      <th>category</th>\n",
       "      <th>label</th>\n",
       "    </tr>\n",
       "  </thead>\n",
       "  <tbody>\n",
       "    <tr>\n",
       "      <th>0</th>\n",
       "      <td>Foreign Democrat final.</td>\n",
       "      <td>more tax development both store agreement lawy...</td>\n",
       "      <td>2023-03-10</td>\n",
       "      <td>NY Times</td>\n",
       "      <td>Paula George</td>\n",
       "      <td>Politics</td>\n",
       "      <td>real</td>\n",
       "    </tr>\n",
       "    <tr>\n",
       "      <th>1</th>\n",
       "      <td>To offer down resource great point.</td>\n",
       "      <td>probably guess western behind likely next inve...</td>\n",
       "      <td>2022-05-25</td>\n",
       "      <td>Fox News</td>\n",
       "      <td>Joseph Hill</td>\n",
       "      <td>Politics</td>\n",
       "      <td>fake</td>\n",
       "    </tr>\n",
       "    <tr>\n",
       "      <th>2</th>\n",
       "      <td>Himself church myself carry.</td>\n",
       "      <td>them identify forward present success risk sev...</td>\n",
       "      <td>2022-09-01</td>\n",
       "      <td>CNN</td>\n",
       "      <td>Julia Robinson</td>\n",
       "      <td>Business</td>\n",
       "      <td>fake</td>\n",
       "    </tr>\n",
       "    <tr>\n",
       "      <th>3</th>\n",
       "      <td>You unit its should.</td>\n",
       "      <td>phone which item yard Republican safe where po...</td>\n",
       "      <td>2023-02-07</td>\n",
       "      <td>Reuters</td>\n",
       "      <td>Mr. David Foster DDS</td>\n",
       "      <td>Science</td>\n",
       "      <td>fake</td>\n",
       "    </tr>\n",
       "    <tr>\n",
       "      <th>4</th>\n",
       "      <td>Billion believe employee summer how.</td>\n",
       "      <td>wonder myself fact difficult course forget exa...</td>\n",
       "      <td>2023-04-03</td>\n",
       "      <td>CNN</td>\n",
       "      <td>Austin Walker</td>\n",
       "      <td>Technology</td>\n",
       "      <td>fake</td>\n",
       "    </tr>\n",
       "  </tbody>\n",
       "</table>\n",
       "</div>"
      ],
      "text/plain": [
       "                                  title  \\\n",
       "0               Foreign Democrat final.   \n",
       "1   To offer down resource great point.   \n",
       "2          Himself church myself carry.   \n",
       "3                  You unit its should.   \n",
       "4  Billion believe employee summer how.   \n",
       "\n",
       "                                                text        date    source  \\\n",
       "0  more tax development both store agreement lawy...  2023-03-10  NY Times   \n",
       "1  probably guess western behind likely next inve...  2022-05-25  Fox News   \n",
       "2  them identify forward present success risk sev...  2022-09-01       CNN   \n",
       "3  phone which item yard Republican safe where po...  2023-02-07   Reuters   \n",
       "4  wonder myself fact difficult course forget exa...  2023-04-03       CNN   \n",
       "\n",
       "                 author    category label  \n",
       "0          Paula George    Politics  real  \n",
       "1           Joseph Hill    Politics  fake  \n",
       "2        Julia Robinson    Business  fake  \n",
       "3  Mr. David Foster DDS     Science  fake  \n",
       "4         Austin Walker  Technology  fake  "
      ]
     },
     "execution_count": 3,
     "metadata": {},
     "output_type": "execute_result"
    }
   ],
   "source": [
    "df.head()"
   ]
  },
  {
   "cell_type": "code",
   "execution_count": 4,
   "id": "3d8ce554",
   "metadata": {},
   "outputs": [
    {
     "name": "stdout",
     "output_type": "stream",
     "text": [
      "<class 'pandas.core.frame.DataFrame'>\n",
      "RangeIndex: 20000 entries, 0 to 19999\n",
      "Data columns (total 7 columns):\n",
      " #   Column    Non-Null Count  Dtype \n",
      "---  ------    --------------  ----- \n",
      " 0   title     20000 non-null  object\n",
      " 1   text      20000 non-null  object\n",
      " 2   date      20000 non-null  object\n",
      " 3   source    19000 non-null  object\n",
      " 4   author    19000 non-null  object\n",
      " 5   category  20000 non-null  object\n",
      " 6   label     20000 non-null  object\n",
      "dtypes: object(7)\n",
      "memory usage: 1.1+ MB\n"
     ]
    }
   ],
   "source": [
    "df.info()"
   ]
  },
  {
   "cell_type": "code",
   "execution_count": 5,
   "id": "febf7965",
   "metadata": {},
   "outputs": [
    {
     "data": {
      "application/vnd.microsoft.datawrangler.viewer.v0+json": {
       "columns": [
        {
         "name": "index",
         "rawType": "object",
         "type": "string"
        },
        {
         "name": "0",
         "rawType": "int64",
         "type": "integer"
        }
       ],
       "ref": "28eb1b02-5d22-4991-892a-6f51fce224fc",
       "rows": [
        [
         "title",
         "20000"
        ],
        [
         "text",
         "20000"
        ],
        [
         "date",
         "1096"
        ],
        [
         "source",
         "8"
        ],
        [
         "author",
         "17051"
        ],
        [
         "category",
         "7"
        ],
        [
         "label",
         "2"
        ]
       ],
       "shape": {
        "columns": 1,
        "rows": 7
       }
      },
      "text/plain": [
       "title       20000\n",
       "text        20000\n",
       "date         1096\n",
       "source          8\n",
       "author      17051\n",
       "category        7\n",
       "label           2\n",
       "dtype: int64"
      ]
     },
     "execution_count": 5,
     "metadata": {},
     "output_type": "execute_result"
    }
   ],
   "source": [
    "df.nunique()"
   ]
  },
  {
   "cell_type": "code",
   "execution_count": 6,
   "id": "00ccb335",
   "metadata": {},
   "outputs": [
    {
     "data": {
      "application/vnd.microsoft.datawrangler.viewer.v0+json": {
       "columns": [
        {
         "name": "label",
         "rawType": "object",
         "type": "string"
        },
        {
         "name": "count",
         "rawType": "int64",
         "type": "integer"
        }
       ],
       "ref": "63cdf5a6-89d1-4a1c-8105-765c2c0b295a",
       "rows": [
        [
         "fake",
         "10056"
        ],
        [
         "real",
         "9944"
        ]
       ],
       "shape": {
        "columns": 1,
        "rows": 2
       }
      },
      "text/plain": [
       "label\n",
       "fake    10056\n",
       "real     9944\n",
       "Name: count, dtype: int64"
      ]
     },
     "execution_count": 6,
     "metadata": {},
     "output_type": "execute_result"
    }
   ],
   "source": [
    "df['label'].value_counts()"
   ]
  },
  {
   "cell_type": "code",
   "execution_count": 7,
   "id": "010d1ad4",
   "metadata": {},
   "outputs": [
    {
     "data": {
      "application/vnd.microsoft.datawrangler.viewer.v0+json": {
       "columns": [
        {
         "name": "source",
         "rawType": "object",
         "type": "string"
        },
        {
         "name": "count",
         "rawType": "int64",
         "type": "integer"
        }
       ],
       "ref": "ee252e43-be41-45fc-8c4b-a24fb1493c87",
       "rows": [
        [
         "Daily News",
         "2439"
        ],
        [
         "BBC",
         "2393"
        ],
        [
         "The Guardian",
         "2382"
        ],
        [
         "CNN",
         "2375"
        ],
        [
         "NY Times",
         "2372"
        ],
        [
         "Fox News",
         "2362"
        ],
        [
         "Reuters",
         "2360"
        ],
        [
         "Global Times",
         "2317"
        ]
       ],
       "shape": {
        "columns": 1,
        "rows": 8
       }
      },
      "text/plain": [
       "source\n",
       "Daily News      2439\n",
       "BBC             2393\n",
       "The Guardian    2382\n",
       "CNN             2375\n",
       "NY Times        2372\n",
       "Fox News        2362\n",
       "Reuters         2360\n",
       "Global Times    2317\n",
       "Name: count, dtype: int64"
      ]
     },
     "execution_count": 7,
     "metadata": {},
     "output_type": "execute_result"
    }
   ],
   "source": [
    "df['source'].value_counts()"
   ]
  },
  {
   "cell_type": "code",
   "execution_count": 8,
   "id": "ae9c2e24",
   "metadata": {},
   "outputs": [
    {
     "data": {
      "application/vnd.microsoft.datawrangler.viewer.v0+json": {
       "columns": [
        {
         "name": "date",
         "rawType": "object",
         "type": "string"
        },
        {
         "name": "count",
         "rawType": "int64",
         "type": "integer"
        }
       ],
       "ref": "3d3632b5-0e09-4d2f-bc7d-7804541d191b",
       "rows": [
        [
         "April",
         "1614"
        ],
        [
         "August",
         "1700"
        ],
        [
         "December",
         "1697"
        ],
        [
         "February",
         "1580"
        ],
        [
         "January",
         "1729"
        ],
        [
         "July",
         "1699"
        ],
        [
         "June",
         "1607"
        ],
        [
         "March",
         "1685"
        ],
        [
         "May",
         "1669"
        ],
        [
         "November",
         "1768"
        ],
        [
         "October",
         "1696"
        ],
        [
         "September",
         "1556"
        ]
       ],
       "shape": {
        "columns": 1,
        "rows": 12
       }
      },
      "text/plain": [
       "date\n",
       "April        1614\n",
       "August       1700\n",
       "December     1697\n",
       "February     1580\n",
       "January      1729\n",
       "July         1699\n",
       "June         1607\n",
       "March        1685\n",
       "May          1669\n",
       "November     1768\n",
       "October      1696\n",
       "September    1556\n",
       "Name: count, dtype: int64"
      ]
     },
     "execution_count": 8,
     "metadata": {},
     "output_type": "execute_result"
    }
   ],
   "source": [
    "pd.to_datetime(df['date'], errors='coerce').dt.month_name().value_counts().sort_index()"
   ]
  },
  {
   "cell_type": "code",
   "execution_count": 9,
   "id": "abaf7826",
   "metadata": {},
   "outputs": [],
   "source": [
    "df['month'] = pd.to_datetime(df['date'], errors='coerce').dt.month_name()\n",
    "df['year'] = pd.to_datetime(df['date'], errors='coerce').dt.year"
   ]
  },
  {
   "cell_type": "code",
   "execution_count": 10,
   "id": "32694ec5",
   "metadata": {},
   "outputs": [],
   "source": [
    "df.drop(columns=['date'], inplace=True)"
   ]
  },
  {
   "cell_type": "code",
   "execution_count": 11,
   "id": "915fc140",
   "metadata": {},
   "outputs": [
    {
     "data": {
      "application/vnd.microsoft.datawrangler.viewer.v0+json": {
       "columns": [
        {
         "name": "index",
         "rawType": "int64",
         "type": "integer"
        },
        {
         "name": "title",
         "rawType": "object",
         "type": "string"
        },
        {
         "name": "text",
         "rawType": "object",
         "type": "string"
        },
        {
         "name": "source",
         "rawType": "object",
         "type": "string"
        },
        {
         "name": "author",
         "rawType": "object",
         "type": "string"
        },
        {
         "name": "category",
         "rawType": "object",
         "type": "string"
        },
        {
         "name": "label",
         "rawType": "object",
         "type": "string"
        },
        {
         "name": "month",
         "rawType": "object",
         "type": "string"
        },
        {
         "name": "year",
         "rawType": "int32",
         "type": "integer"
        }
       ],
       "ref": "459ef292-feb1-4a8f-9a3b-687ec730bdd5",
       "rows": [
        [
         "0",
         "Foreign Democrat final.",
         "more tax development both store agreement lawyer hear outside continue reach difference yeah figure your power fear identify there protect security great national nothing fast story why late nearly bit cost tough since question to power almost future young conference behind ahead building teach million box receive Mrs risk benefit month compare environment class imagine you vote community reason set once idea him answer many how purpose deep training game own true language garden of partner result face military discover discover data glass bed maintain test way development across top culture glass yes decision hope necessary as trade organization talk debate peace stay community development six wide write itself several fight teach billion for common fear we personal church establish store kind hundred debate hotel cut sister audience sound case that stay within information trouble be debate great themselves responsibility force people hundred bar miss others sometimes build room interesting however charge what especially north no especially us travel industry about including face ten behind black series place age soldier early trouble middle would along case what money significant sound song reason poor free want thank cultural range shoulder rest movie political fear hear past leader up edge professor determine law act change middle prove say notice travel open director argue economic seven game matter season",
         "NY Times",
         "Paula George",
         "Politics",
         "real",
         "March",
         "2023"
        ],
        [
         "1",
         "To offer down resource great point.",
         "probably guess western behind likely next investment consumer range wrong exactly once attack shoulder movie partner daughter on executive tonight factor push development pass question field firm accept I represent answer computer win fast small character total myself air must difficult green fast writer adult though individual learn interview our available drug against group produce before large wish find even media nature then last computer project story special stand lead build during ball contain road since history customer garden figure kind throw tell discuss remain view morning put mouth while serve great certain free two structure skin yard position suffer fast someone ok mind must something outside position write theory ok letter for debate seat top fall authority bit deep there get man view loss bring friend free certain economic final occur summer similar best discover area real area still scientist social everybody front direction arrive open own down next lawyer baby already size stand put financial sister clear whether save into realize right break quickly music customer price prevent truth effort which probably strong friend everything also body together political interview least research benefit why dog mean near interest unit seek blood leader husband bring teacher age apply fill guess store south woman television worry build young style maybe agreement ability relate amount actually quite whose smile student current mother simply gun store Republican none when shoulder market admit knowledge animal majority product attorney approach on probably",
         "Fox News",
         "Joseph Hill",
         "Politics",
         "fake",
         "May",
         "2022"
        ],
        [
         "2",
         "Himself church myself carry.",
         "them identify forward present success risk several front pull blood choose born prove we clear approach language election future plant other those yourself all thing side soon guy vote him should practice dream until find despite less artist minute although teacher social eye top less make back care thus much small act outside college because up travel continue night name military room himself instead many month follow long president community people like attention fall crime history despite fill recently need commercial investment address send religious join opportunity story but idea exactly back difference loss degree whose throughout lead response almost toward themselves card national structure state arm low threat property eat bill public trip bed note hair teach defense citizen my rather believe say level wall short religious theory hair respond town return discussion investment never success entire admit develop south ability television yard daughter while fire modern send suggest skin could outside work office protect determine teach structure door fund ready gun role everyone often father establish majority point set choice meet think treatment animal audience guess hear student other certain inside assume check approach senior body once condition just trial occur foot explain police certain kid into special share deal write southern nature exactly respond kid help cause manager TV ago word nor her care reality daughter find answer affect",
         "CNN",
         "Julia Robinson",
         "Business",
         "fake",
         "September",
         "2022"
        ],
        [
         "3",
         "You unit its should.",
         "phone which item yard Republican safe where police identify either once participant not man human tough enough offer high imagine point police woman paper cover many reach service will likely president conference film agree discover moment positive help task share necessary story right finally compare traditional change for reason purpose single crime available point building wear speech about summer why senior couple somebody PM remember push less data hotel authority situation for much visit general society firm positive player play page miss brother window indeed energy lose stage perhaps itself range common story hot strong adult produce next carry guess television travel form meeting industry shoulder market sure certain parent walk husband behind cultural whatever collection difficult we team probably produce quickly health full white laugh represent religious line force I exist admit statement try by front short pattern baby open claim these chance face else way decade sing nature rich white bring employee catch time industry official family million camera some including everybody security wait art vote maybe rich detail sort another let forget product police third evidence end old throughout student discussion office put nature whatever figure sign nature population town team against arm war include need visit would wait small just bed I line school eight might bag official worker television condition so institution information full protect food fight attack include current even per chair accept reflect speak answer bag officer understand good weight money movement main traditional western information account adult even gas",
         "Reuters",
         "Mr. David Foster DDS",
         "Science",
         "fake",
         "February",
         "2023"
        ],
        [
         "4",
         "Billion believe employee summer how.",
         "wonder myself fact difficult course forget exactly pattern both sell training understand so ahead single western ago worry direction various agree first remember tonight year building agreement involve effect over even total game look need evidence particularly attorney agency apply produce theory deep ok fund relationship suffer guess put build morning quickly home authority physical choice can environment skin fill cost state force fire again establish recent two world style beyond bad while game memory world what hair anyone simply week try sport animal yeah hundred visit note within value various military laugh politics official between front would upon attack shoulder administration wish space receive less thing with structure produce cultural approach law doctor money interesting lawyer TV each activity however child item space sell movie south make around number camera past process fear wait total city site next party charge father up knowledge compare front attack check watch beat yard knowledge before quality field institution month child actually right become collection camera need include pattern after behind best ability expect possible star girl four radio establish charge budget suggest thousand she base become blood direction middle support fight game foot court reduce single whether or at score anything its sister management at focus machine single husband through free language run want shake goal food",
         "CNN",
         "Austin Walker",
         "Technology",
         "fake",
         "April",
         "2023"
        ]
       ],
       "shape": {
        "columns": 8,
        "rows": 5
       }
      },
      "text/html": [
       "<div>\n",
       "<style scoped>\n",
       "    .dataframe tbody tr th:only-of-type {\n",
       "        vertical-align: middle;\n",
       "    }\n",
       "\n",
       "    .dataframe tbody tr th {\n",
       "        vertical-align: top;\n",
       "    }\n",
       "\n",
       "    .dataframe thead th {\n",
       "        text-align: right;\n",
       "    }\n",
       "</style>\n",
       "<table border=\"1\" class=\"dataframe\">\n",
       "  <thead>\n",
       "    <tr style=\"text-align: right;\">\n",
       "      <th></th>\n",
       "      <th>title</th>\n",
       "      <th>text</th>\n",
       "      <th>source</th>\n",
       "      <th>author</th>\n",
       "      <th>category</th>\n",
       "      <th>label</th>\n",
       "      <th>month</th>\n",
       "      <th>year</th>\n",
       "    </tr>\n",
       "  </thead>\n",
       "  <tbody>\n",
       "    <tr>\n",
       "      <th>0</th>\n",
       "      <td>Foreign Democrat final.</td>\n",
       "      <td>more tax development both store agreement lawy...</td>\n",
       "      <td>NY Times</td>\n",
       "      <td>Paula George</td>\n",
       "      <td>Politics</td>\n",
       "      <td>real</td>\n",
       "      <td>March</td>\n",
       "      <td>2023</td>\n",
       "    </tr>\n",
       "    <tr>\n",
       "      <th>1</th>\n",
       "      <td>To offer down resource great point.</td>\n",
       "      <td>probably guess western behind likely next inve...</td>\n",
       "      <td>Fox News</td>\n",
       "      <td>Joseph Hill</td>\n",
       "      <td>Politics</td>\n",
       "      <td>fake</td>\n",
       "      <td>May</td>\n",
       "      <td>2022</td>\n",
       "    </tr>\n",
       "    <tr>\n",
       "      <th>2</th>\n",
       "      <td>Himself church myself carry.</td>\n",
       "      <td>them identify forward present success risk sev...</td>\n",
       "      <td>CNN</td>\n",
       "      <td>Julia Robinson</td>\n",
       "      <td>Business</td>\n",
       "      <td>fake</td>\n",
       "      <td>September</td>\n",
       "      <td>2022</td>\n",
       "    </tr>\n",
       "    <tr>\n",
       "      <th>3</th>\n",
       "      <td>You unit its should.</td>\n",
       "      <td>phone which item yard Republican safe where po...</td>\n",
       "      <td>Reuters</td>\n",
       "      <td>Mr. David Foster DDS</td>\n",
       "      <td>Science</td>\n",
       "      <td>fake</td>\n",
       "      <td>February</td>\n",
       "      <td>2023</td>\n",
       "    </tr>\n",
       "    <tr>\n",
       "      <th>4</th>\n",
       "      <td>Billion believe employee summer how.</td>\n",
       "      <td>wonder myself fact difficult course forget exa...</td>\n",
       "      <td>CNN</td>\n",
       "      <td>Austin Walker</td>\n",
       "      <td>Technology</td>\n",
       "      <td>fake</td>\n",
       "      <td>April</td>\n",
       "      <td>2023</td>\n",
       "    </tr>\n",
       "  </tbody>\n",
       "</table>\n",
       "</div>"
      ],
      "text/plain": [
       "                                  title  \\\n",
       "0               Foreign Democrat final.   \n",
       "1   To offer down resource great point.   \n",
       "2          Himself church myself carry.   \n",
       "3                  You unit its should.   \n",
       "4  Billion believe employee summer how.   \n",
       "\n",
       "                                                text    source  \\\n",
       "0  more tax development both store agreement lawy...  NY Times   \n",
       "1  probably guess western behind likely next inve...  Fox News   \n",
       "2  them identify forward present success risk sev...       CNN   \n",
       "3  phone which item yard Republican safe where po...   Reuters   \n",
       "4  wonder myself fact difficult course forget exa...       CNN   \n",
       "\n",
       "                 author    category label      month  year  \n",
       "0          Paula George    Politics  real      March  2023  \n",
       "1           Joseph Hill    Politics  fake        May  2022  \n",
       "2        Julia Robinson    Business  fake  September  2022  \n",
       "3  Mr. David Foster DDS     Science  fake   February  2023  \n",
       "4         Austin Walker  Technology  fake      April  2023  "
      ]
     },
     "execution_count": 11,
     "metadata": {},
     "output_type": "execute_result"
    }
   ],
   "source": [
    "df.head()"
   ]
  },
  {
   "cell_type": "code",
   "execution_count": 12,
   "id": "bd513429",
   "metadata": {},
   "outputs": [],
   "source": [
    "import matplotlib.pyplot as plt"
   ]
  },
  {
   "cell_type": "code",
   "execution_count": 13,
   "id": "a35c6c90",
   "metadata": {},
   "outputs": [
    {
     "data": {
      "image/png": "[encoded data removed]",
      "text/plain": [
       "<Figure size 1000x600 with 1 Axes>"
      ]
     },
     "metadata": {},
     "output_type": "display_data"
    }
   ],
   "source": [
    "d = df.groupby(['source', 'label']).size().unstack(fill_value=0).plot(kind='bar',stacked=True, figsize=(10, 6), color=['#1f77b4', \"#ff0e0e\"])\n",
    "plt.title('Source vs Label Distribution')\n",
    "plt.xlabel('Source')\n",
    "plt.ylabel('Count')\n",
    "plt.xticks(rotation=45)\n",
    "\n",
    "for label in d.containers:\n",
    "    d.bar_label(label, label_type='center', fontsize=10, color='black')\n",
    "plt.legend(title='Label', loc='upper right')\n",
    "plt.tight_layout()"
   ]
  },
  {
   "cell_type": "code",
   "execution_count": 14,
   "id": "5269bfd7",
   "metadata": {},
   "outputs": [
    {
     "data": {
      "image/png": "[encoded data removed]",
      "text/plain": [
       "<Figure size 1000x600 with 1 Axes>"
      ]
     },
     "metadata": {},
     "output_type": "display_data"
    }
   ],
   "source": [
    "d = df.groupby(['category', 'label']).size().unstack(fill_value=0).plot(kind='bar',stacked=True, figsize=(10, 6), color=['#1f77b4', \"#ff0e0e\"])\n",
    "plt.title('Source vs Label Distribution')\n",
    "plt.xlabel('Source')\n",
    "plt.ylabel('Count')\n",
    "plt.xticks(rotation=45)\n",
    "\n",
    "for label in d.containers:\n",
    "    d.bar_label(label, label_type='center', fontsize=10, color='black')\n",
    "plt.legend(title='Label', loc='upper right')\n",
    "plt.tight_layout()"
   ]
  },
  {
   "cell_type": "code",
   "execution_count": 15,
   "id": "8a06e36c",
   "metadata": {},
   "outputs": [
    {
     "data": {
      "application/vnd.microsoft.datawrangler.viewer.v0+json": {
       "columns": [
        {
         "name": "month",
         "rawType": "object",
         "type": "string"
        },
        {
         "name": "count",
         "rawType": "int64",
         "type": "integer"
        }
       ],
       "ref": "caa11842-3914-4294-bc8b-7a8fa5a32383",
       "rows": [
        [
         "April",
         "1614"
        ],
        [
         "August",
         "1700"
        ],
        [
         "December",
         "1697"
        ],
        [
         "February",
         "1580"
        ],
        [
         "January",
         "1729"
        ],
        [
         "July",
         "1699"
        ],
        [
         "June",
         "1607"
        ],
        [
         "March",
         "1685"
        ],
        [
         "May",
         "1669"
        ],
        [
         "November",
         "1768"
        ],
        [
         "October",
         "1696"
        ],
        [
         "September",
         "1556"
        ]
       ],
       "shape": {
        "columns": 1,
        "rows": 12
       }
      },
      "text/plain": [
       "month\n",
       "April        1614\n",
       "August       1700\n",
       "December     1697\n",
       "February     1580\n",
       "January      1729\n",
       "July         1699\n",
       "June         1607\n",
       "March        1685\n",
       "May          1669\n",
       "November     1768\n",
       "October      1696\n",
       "September    1556\n",
       "Name: count, dtype: int64"
      ]
     },
     "execution_count": 15,
     "metadata": {},
     "output_type": "execute_result"
    }
   ],
   "source": [
    "# How many fake news are being shared per month?\n",
    "df['month'].value_counts().sort_index()"
   ]
  },
  {
   "cell_type": "code",
   "execution_count": 16,
   "id": "7aa22040",
   "metadata": {},
   "outputs": [
    {
     "data": {
      "application/vnd.microsoft.datawrangler.viewer.v0+json": {
       "columns": [
        {
         "name": "year",
         "rawType": "int32",
         "type": "integer"
        },
        {
         "name": "count",
         "rawType": "int64",
         "type": "integer"
        }
       ],
       "ref": "358ebc65-f1eb-459c-961c-a5cde4385b58",
       "rows": [
        [
         "2022",
         "4555"
        ],
        [
         "2023",
         "6696"
        ],
        [
         "2024",
         "6685"
        ],
        [
         "2025",
         "2064"
        ]
       ],
       "shape": {
        "columns": 1,
        "rows": 4
       }
      },
      "text/plain": [
       "year\n",
       "2022    4555\n",
       "2023    6696\n",
       "2024    6685\n",
       "2025    2064\n",
       "Name: count, dtype: int64"
      ]
     },
     "execution_count": 16,
     "metadata": {},
     "output_type": "execute_result"
    }
   ],
   "source": [
    "df['year'].value_counts().sort_index()"
   ]
  },
  {
   "cell_type": "code",
   "execution_count": 17,
   "id": "2c30f3a7",
   "metadata": {},
   "outputs": [
    {
     "data": {
      "text/plain": [
       "<matplotlib.legend.Legend at 0x2c908462db0>"
      ]
     },
     "execution_count": 17,
     "metadata": {},
     "output_type": "execute_result"
    },
    {
     "data": {
      "image/png": "[encoded data removed]",
      "text/plain": [
       "<Figure size 1200x600 with 1 Axes>"
      ]
     },
     "metadata": {},
     "output_type": "display_data"
    }
   ],
   "source": [
    "# How many fake news are being shared per month and year?\n",
    "d = df.groupby(['year', 'month']).size().unstack(fill_value=0).plot(kind='bar', stacked=True, figsize=(12, 6), color=['#1f77b4', \"#ff0e0e\"])\n",
    "plt.title('Fake News Distribution by Year and Month')\n",
    "plt.xlabel('Year')\n",
    "plt.ylabel('Count')\n",
    "plt.xticks(rotation=45)\n",
    "for label in d.containers:\n",
    "    d.bar_label(label, label_type='center', fontsize=10, color='black')\n",
    "plt.legend(title='Month', loc='upper right')\n"
   ]
  },
  {
   "cell_type": "code",
   "execution_count": 34,
   "id": "6a16ef30",
   "metadata": {},
   "outputs": [],
   "source": [
    "import sys\n",
    "sys.path.append(\"..\")"
   ]
  },
  {
   "cell_type": "code",
   "execution_count": 19,
   "id": "4b9436d4",
   "metadata": {},
   "outputs": [],
   "source": [
    "# Now import\n",
    "# from detector.utils import clean_text, preprocess_dataframe\n",
    "from sklearn.model_selection import train_test_split\n",
    "from sklearn.feature_extraction.text import TfidfVectorizer, CountVectorizer\n",
    "from sklearn.metrics import accuracy_score, f1_score\n",
    "import pandas as pd\n",
    "import nltk\n",
    "import joblib"
   ]
  },
  {
   "cell_type": "code",
   "execution_count": 37,
   "id": "76a3ea48",
   "metadata": {},
   "outputs": [
    {
     "data": {
      "application/vnd.microsoft.datawrangler.viewer.v0+json": {
       "columns": [
        {
         "name": "index",
         "rawType": "int64",
         "type": "integer"
        },
        {
         "name": "title",
         "rawType": "object",
         "type": "string"
        },
        {
         "name": "text",
         "rawType": "object",
         "type": "string"
        },
        {
         "name": "source",
         "rawType": "object",
         "type": "string"
        },
        {
         "name": "author",
         "rawType": "object",
         "type": "string"
        },
        {
         "name": "category",
         "rawType": "object",
         "type": "string"
        },
        {
         "name": "label",
         "rawType": "object",
         "type": "string"
        },
        {
         "name": "month",
         "rawType": "object",
         "type": "string"
        },
        {
         "name": "year",
         "rawType": "int32",
         "type": "integer"
        }
       ],
       "ref": "6d9a1537-21e4-4158-83de-5aa842b1bd1e",
       "rows": [
        [
         "0",
         "Foreign Democrat final.",
         "more tax development both store agreement lawyer hear outside continue reach difference yeah figure your power fear identify there protect security great national nothing fast story why late nearly bit cost tough since question to power almost future young conference behind ahead building teach million box receive Mrs risk benefit month compare environment class imagine you vote community reason set once idea him answer many how purpose deep training game own true language garden of partner result face military discover discover data glass bed maintain test way development across top culture glass yes decision hope necessary as trade organization talk debate peace stay community development six wide write itself several fight teach billion for common fear we personal church establish store kind hundred debate hotel cut sister audience sound case that stay within information trouble be debate great themselves responsibility force people hundred bar miss others sometimes build room interesting however charge what especially north no especially us travel industry about including face ten behind black series place age soldier early trouble middle would along case what money significant sound song reason poor free want thank cultural range shoulder rest movie political fear hear past leader up edge professor determine law act change middle prove say notice travel open director argue economic seven game matter season",
         "NY Times",
         "Paula George",
         "Politics",
         "real",
         "March",
         "2023"
        ],
        [
         "1",
         "To offer down resource great point.",
         "probably guess western behind likely next investment consumer range wrong exactly once attack shoulder movie partner daughter on executive tonight factor push development pass question field firm accept I represent answer computer win fast small character total myself air must difficult green fast writer adult though individual learn interview our available drug against group produce before large wish find even media nature then last computer project story special stand lead build during ball contain road since history customer garden figure kind throw tell discuss remain view morning put mouth while serve great certain free two structure skin yard position suffer fast someone ok mind must something outside position write theory ok letter for debate seat top fall authority bit deep there get man view loss bring friend free certain economic final occur summer similar best discover area real area still scientist social everybody front direction arrive open own down next lawyer baby already size stand put financial sister clear whether save into realize right break quickly music customer price prevent truth effort which probably strong friend everything also body together political interview least research benefit why dog mean near interest unit seek blood leader husband bring teacher age apply fill guess store south woman television worry build young style maybe agreement ability relate amount actually quite whose smile student current mother simply gun store Republican none when shoulder market admit knowledge animal majority product attorney approach on probably",
         "Fox News",
         "Joseph Hill",
         "Politics",
         "fake",
         "May",
         "2022"
        ],
        [
         "2",
         "Himself church myself carry.",
         "them identify forward present success risk several front pull blood choose born prove we clear approach language election future plant other those yourself all thing side soon guy vote him should practice dream until find despite less artist minute although teacher social eye top less make back care thus much small act outside college because up travel continue night name military room himself instead many month follow long president community people like attention fall crime history despite fill recently need commercial investment address send religious join opportunity story but idea exactly back difference loss degree whose throughout lead response almost toward themselves card national structure state arm low threat property eat bill public trip bed note hair teach defense citizen my rather believe say level wall short religious theory hair respond town return discussion investment never success entire admit develop south ability television yard daughter while fire modern send suggest skin could outside work office protect determine teach structure door fund ready gun role everyone often father establish majority point set choice meet think treatment animal audience guess hear student other certain inside assume check approach senior body once condition just trial occur foot explain police certain kid into special share deal write southern nature exactly respond kid help cause manager TV ago word nor her care reality daughter find answer affect",
         "CNN",
         "Julia Robinson",
         "Business",
         "fake",
         "September",
         "2022"
        ],
        [
         "3",
         "You unit its should.",
         "phone which item yard Republican safe where police identify either once participant not man human tough enough offer high imagine point police woman paper cover many reach service will likely president conference film agree discover moment positive help task share necessary story right finally compare traditional change for reason purpose single crime available point building wear speech about summer why senior couple somebody PM remember push less data hotel authority situation for much visit general society firm positive player play page miss brother window indeed energy lose stage perhaps itself range common story hot strong adult produce next carry guess television travel form meeting industry shoulder market sure certain parent walk husband behind cultural whatever collection difficult we team probably produce quickly health full white laugh represent religious line force I exist admit statement try by front short pattern baby open claim these chance face else way decade sing nature rich white bring employee catch time industry official family million camera some including everybody security wait art vote maybe rich detail sort another let forget product police third evidence end old throughout student discussion office put nature whatever figure sign nature population town team against arm war include need visit would wait small just bed I line school eight might bag official worker television condition so institution information full protect food fight attack include current even per chair accept reflect speak answer bag officer understand good weight money movement main traditional western information account adult even gas",
         "Reuters",
         "Mr. David Foster DDS",
         "Science",
         "fake",
         "February",
         "2023"
        ],
        [
         "4",
         "Billion believe employee summer how.",
         "wonder myself fact difficult course forget exactly pattern both sell training understand so ahead single western ago worry direction various agree first remember tonight year building agreement involve effect over even total game look need evidence particularly attorney agency apply produce theory deep ok fund relationship suffer guess put build morning quickly home authority physical choice can environment skin fill cost state force fire again establish recent two world style beyond bad while game memory world what hair anyone simply week try sport animal yeah hundred visit note within value various military laugh politics official between front would upon attack shoulder administration wish space receive less thing with structure produce cultural approach law doctor money interesting lawyer TV each activity however child item space sell movie south make around number camera past process fear wait total city site next party charge father up knowledge compare front attack check watch beat yard knowledge before quality field institution month child actually right become collection camera need include pattern after behind best ability expect possible star girl four radio establish charge budget suggest thousand she base become blood direction middle support fight game foot court reduce single whether or at score anything its sister management at focus machine single husband through free language run want shake goal food",
         "CNN",
         "Austin Walker",
         "Technology",
         "fake",
         "April",
         "2023"
        ]
       ],
       "shape": {
        "columns": 8,
        "rows": 5
       }
      },
      "text/html": [
       "<div>\n",
       "<style scoped>\n",
       "    .dataframe tbody tr th:only-of-type {\n",
       "        vertical-align: middle;\n",
       "    }\n",
       "\n",
       "    .dataframe tbody tr th {\n",
       "        vertical-align: top;\n",
       "    }\n",
       "\n",
       "    .dataframe thead th {\n",
       "        text-align: right;\n",
       "    }\n",
       "</style>\n",
       "<table border=\"1\" class=\"dataframe\">\n",
       "  <thead>\n",
       "    <tr style=\"text-align: right;\">\n",
       "      <th></th>\n",
       "      <th>title</th>\n",
       "      <th>text</th>\n",
       "      <th>source</th>\n",
       "      <th>author</th>\n",
       "      <th>category</th>\n",
       "      <th>label</th>\n",
       "      <th>month</th>\n",
       "      <th>year</th>\n",
       "    </tr>\n",
       "  </thead>\n",
       "  <tbody>\n",
       "    <tr>\n",
       "      <th>0</th>\n",
       "      <td>Foreign Democrat final.</td>\n",
       "      <td>more tax development both store agreement lawy...</td>\n",
       "      <td>NY Times</td>\n",
       "      <td>Paula George</td>\n",
       "      <td>Politics</td>\n",
       "      <td>real</td>\n",
       "      <td>March</td>\n",
       "      <td>2023</td>\n",
       "    </tr>\n",
       "    <tr>\n",
       "      <th>1</th>\n",
       "      <td>To offer down resource great point.</td>\n",
       "      <td>probably guess western behind likely next inve...</td>\n",
       "      <td>Fox News</td>\n",
       "      <td>Joseph Hill</td>\n",
       "      <td>Politics</td>\n",
       "      <td>fake</td>\n",
       "      <td>May</td>\n",
       "      <td>2022</td>\n",
       "    </tr>\n",
       "    <tr>\n",
       "      <th>2</th>\n",
       "      <td>Himself church myself carry.</td>\n",
       "      <td>them identify forward present success risk sev...</td>\n",
       "      <td>CNN</td>\n",
       "      <td>Julia Robinson</td>\n",
       "      <td>Business</td>\n",
       "      <td>fake</td>\n",
       "      <td>September</td>\n",
       "      <td>2022</td>\n",
       "    </tr>\n",
       "    <tr>\n",
       "      <th>3</th>\n",
       "      <td>You unit its should.</td>\n",
       "      <td>phone which item yard Republican safe where po...</td>\n",
       "      <td>Reuters</td>\n",
       "      <td>Mr. David Foster DDS</td>\n",
       "      <td>Science</td>\n",
       "      <td>fake</td>\n",
       "      <td>February</td>\n",
       "      <td>2023</td>\n",
       "    </tr>\n",
       "    <tr>\n",
       "      <th>4</th>\n",
       "      <td>Billion believe employee summer how.</td>\n",
       "      <td>wonder myself fact difficult course forget exa...</td>\n",
       "      <td>CNN</td>\n",
       "      <td>Austin Walker</td>\n",
       "      <td>Technology</td>\n",
       "      <td>fake</td>\n",
       "      <td>April</td>\n",
       "      <td>2023</td>\n",
       "    </tr>\n",
       "  </tbody>\n",
       "</table>\n",
       "</div>"
      ],
      "text/plain": [
       "                                  title  \\\n",
       "0               Foreign Democrat final.   \n",
       "1   To offer down resource great point.   \n",
       "2          Himself church myself carry.   \n",
       "3                  You unit its should.   \n",
       "4  Billion believe employee summer how.   \n",
       "\n",
       "                                                text    source  \\\n",
       "0  more tax development both store agreement lawy...  NY Times   \n",
       "1  probably guess western behind likely next inve...  Fox News   \n",
       "2  them identify forward present success risk sev...       CNN   \n",
       "3  phone which item yard Republican safe where po...   Reuters   \n",
       "4  wonder myself fact difficult course forget exa...       CNN   \n",
       "\n",
       "                 author    category label      month  year  \n",
       "0          Paula George    Politics  real      March  2023  \n",
       "1           Joseph Hill    Politics  fake        May  2022  \n",
       "2        Julia Robinson    Business  fake  September  2022  \n",
       "3  Mr. David Foster DDS     Science  fake   February  2023  \n",
       "4         Austin Walker  Technology  fake      April  2023  "
      ]
     },
     "execution_count": 37,
     "metadata": {},
     "output_type": "execute_result"
    }
   ],
   "source": [
    "df.head()"
   ]
  },
  {
   "cell_type": "code",
   "execution_count": 20,
   "id": "5df69d1a",
   "metadata": {},
   "outputs": [],
   "source": [
    "import re\n",
    "import html\n",
    "from bs4 import BeautifulSoup"
   ]
  },
  {
   "cell_type": "code",
   "execution_count": 21,
   "id": "8d972b33",
   "metadata": {},
   "outputs": [],
   "source": [
    "def clean_text(text):\n",
    "    \"\"\"Enhanced cleaning for Word2Vec\"\"\"\n",
    "    if not isinstance(text, str):\n",
    "        return \"\"\n",
    "    \n",
    "    text = html.unescape(text)\n",
    "    text = re.sub(r\"<[^>]+>\", \"\", text)\n",
    "    text = re.sub(r\"http\\S+|www\\S+|https\\S+\", \"\", text)\n",
    "    text = re.sub(r\"[^a-zA-Z\\s]\", \"\", text)  # Keep only letters\n",
    "    return text.lower().strip()"
   ]
  },
  {
   "cell_type": "code",
   "execution_count": 22,
   "id": "0271fef9",
   "metadata": {},
   "outputs": [],
   "source": [
    "def preprocess_dataframe(df):\n",
    "    # Clean the text\n",
    "    df['text'] = df['text'].apply(clean_text)\n",
    "    df['title'] = df['title'].apply(clean_text)\n",
    "    \n",
    "    # Drop rows with NaN values in 'text' or 'label'\n",
    "    # df.dropna(subset=['text', 'label'], inplace=True)\n",
    "    \n",
    "    # Reset index\n",
    "    # df.reset_index(drop=True, inplace=True)\n",
    "    \n",
    "    return df"
   ]
  },
  {
   "cell_type": "code",
   "execution_count": 24,
   "id": "41b879ec",
   "metadata": {},
   "outputs": [],
   "source": [
    "df = preprocess_dataframe(df)\n",
    "\n",
    "# 3. Prepare Features\n",
    "df['combined'] = df['title'] + \" \" + df['text']  # Simple concatenation\n",
    "X = df['combined']\n",
    "y = df['label']"
   ]
  },
  {
   "cell_type": "code",
   "execution_count": 25,
   "id": "d96fbf4a",
   "metadata": {},
   "outputs": [],
   "source": [
    "from sklearn.linear_model import LogisticRegression\n",
    "from sklearn.ensemble import RandomForestClassifier\n",
    "from sklearn.svm import SVC\n",
    "from sklearn.naive_bayes import MultinomialNB, GaussianNB\n",
    "from sklearn.pipeline import Pipeline"
   ]
  },
  {
   "cell_type": "code",
   "execution_count": 26,
   "id": "1693dcdd",
   "metadata": {},
   "outputs": [],
   "source": [
    "# fake 0 and real 1\n",
    "y = y.map({'fake': 0, 'real': 1})"
   ]
  },
  {
   "cell_type": "code",
   "execution_count": 27,
   "id": "908bf640",
   "metadata": {},
   "outputs": [],
   "source": [
    "# 4. Train-Test Split\n",
    "X_train, X_test, y_train, y_test = train_test_split(X, y, test_size=0.2)"
   ]
  },
  {
   "cell_type": "code",
   "execution_count": 28,
   "id": "3e35772f",
   "metadata": {},
   "outputs": [],
   "source": [
    "# 5. Test Different Models\n",
    "models = {\n",
    "    \"Logistic Regression\": LogisticRegression(max_iter=1000),\n",
    "    \"Random Forest\": RandomForestClassifier(),\n",
    "    \"SVM\": SVC(kernel='linear'),\n",
    "    \"Naive Bayes\": MultinomialNB(),\n",
    "    \"Gaussian Naive Bayes\": GaussianNB()\n",
    "}\n"
   ]
  },
  {
   "cell_type": "code",
   "execution_count": 30,
   "id": "bbe96e3b",
   "metadata": {},
   "outputs": [],
   "source": [
    "from sklearn.preprocessing import FunctionTransformer"
   ]
  },
  {
   "cell_type": "code",
   "execution_count": 31,
   "id": "2a00c8f9",
   "metadata": {},
   "outputs": [],
   "source": [
    "results_tfid = []\n",
    "\n",
    "for name, model in models.items():\n",
    "    # Create pipeline\n",
    "    pipeline_tfid = Pipeline([\n",
    "    ('tfidf', TfidfVectorizer(stop_words='english')),\n",
    "    ('to_dense', FunctionTransformer(lambda x: x.toarray(), accept_sparse=True)),\n",
    "    ('clf', model)\n",
    "    ])\n",
    "\n",
    "    \n",
    "    # Train and evaluate\n",
    "    pipeline_tfid.fit(X_train, y_train)\n",
    "    preds = pipeline_tfid.predict(X_test)\n",
    "    \n",
    "    # Store results\n",
    "    results_tfid.append({\n",
    "        'model': name,\n",
    "        'accuracy': accuracy_score(y_test, preds),\n",
    "        'f1_score': f1_score(y_test, preds)\n",
    "    })"
   ]
  },
  {
   "cell_type": "code",
   "execution_count": 32,
   "id": "0b8fa460",
   "metadata": {},
   "outputs": [
    {
     "name": "stdout",
     "output_type": "stream",
     "text": [
      "                  model  accuracy  f1_score\n",
      "3           Naive Bayes   0.50625  0.433286\n",
      "0   Logistic Regression   0.50525  0.500631\n",
      "2                   SVM   0.50200  0.496461\n",
      "1         Random Forest   0.49600  0.470310\n",
      "4  Gaussian Naive Bayes   0.48800  0.488511\n"
     ]
    }
   ],
   "source": [
    "\n",
    "\n",
    "\n",
    "# 6. Display Results\n",
    "results_df_tfid = pd.DataFrame(results_tfid)\n",
    "print(results_df_tfid.sort_values('accuracy', ascending=False))\n",
    "\n"
   ]
  },
  {
   "cell_type": "code",
   "execution_count": null,
   "id": "212a970a",
   "metadata": {},
   "outputs": [],
   "source": [
    "results_count = []\n",
    "\n",
    "for name, model in models.items():\n",
    "    # Create pipeline\n",
    "    pipeline_count = Pipeline([\n",
    "        ('tfidf', CountVectorizer(stop_words='english')),\n",
    "        ('to_dense', FunctionTransformer(lambda x: x.toarray(), accept_sparse=True)),\n",
    "        ('clf', model)\n",
    "    ])\n",
    "    # Train and evaluate\n",
    "    pipeline_count.fit(X_train, y_train)\n",
    "    preds = pipeline_count.predict(X_test)\n",
    "    \n",
    "    # Store results\n",
    "    results_count.append({\n",
    "        'model': name,\n",
    "        'accuracy': accuracy_score(y_test, preds),\n",
    "        'f1_score': f1_score(y_test, preds)\n",
    "    })"
   ]
  },
  {
   "cell_type": "code",
   "execution_count": null,
   "id": "beacefe1",
   "metadata": {},
   "outputs": [],
   "source": [
    "# 6. Display Results\n",
    "results_df_count = pd.DataFrame(results_count)\n",
    "print(results_df_count.sort_values('accuracy', ascending=False))\n",
    "\n"
   ]
  },
  {
   "cell_type": "code",
   "execution_count": null,
   "id": "2a8874d7",
   "metadata": {},
   "outputs": [],
   "source": []
  },
  {
   "cell_type": "code",
   "execution_count": null,
   "id": "998b4ad3",
   "metadata": {},
   "outputs": [],
   "source": [
    "# 7. Save Best Model\n",
    "best_model = Pipeline([\n",
    "    ('tfidf', TfidfVectorizer(stop_words='english')),\n",
    "    ('clf', LogisticRegression(max_iter=1000))\n",
    "])\n",
    "best_model.fit(X, y)\n",
    "joblib.dump(best_model, \"../models/best_model.pkl\")"
   ]
  }
 ],
 "metadata": {
  "kernelspec": {
   "display_name": "fake-env",
   "language": "python",
   "name": "python3"
  },
  "language_info": {
   "codemirror_mode": {
    "name": "ipython",
    "version": 3
   },
   "file_extension": ".py",
   "mimetype": "text/x-python",
   "name": "python",
   "nbconvert_exporter": "python",
   "pygments_lexer": "ipython3",
   "version": "3.12.11"
  }
 },
 "nbformat": 4,
 "nbformat_minor": 5
}
